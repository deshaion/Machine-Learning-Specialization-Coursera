{
 "cells": [
  {
   "cell_type": "markdown",
   "id": "c4c4a643",
   "metadata": {
    "pycharm": {
     "name": "#%% md\n"
    }
   },
   "source": [
    "# Optional Lab: Logistic Regression\n",
    "\n",
    "In this ungraded lab, you will \n",
    "- explore the sigmoid function (also known as the logistic function)\n",
    "- explore logistic regression; which uses the sigmoid function"
   ]
  },
  {
   "cell_type": "code",
   "execution_count": 1,
   "id": "15572835",
   "metadata": {
    "pycharm": {
     "name": "#%%\n"
    }
   },
   "outputs": [],
   "source": [
    "import numpy as np\n",
    "%matplotlib widget\n",
    "import matplotlib.pyplot as plt\n",
    "from plt_one_addpt_onclick import plt_one_addpt_onclick\n",
    "from lab_utils_common import draw_vthresh\n",
    "plt.style.use('./deeplearning.mplstyle')"
   ]
  },
  {
   "cell_type": "markdown",
   "id": "db14506b",
   "metadata": {
    "pycharm": {
     "name": "#%% md\n"
    }
   },
   "source": [
    "## Sigmoid or Logistic Function\n",
    "<img align=\"left\" src=\"./images/C1_W3_LogisticRegression_left.png\"     style=\" width:300px; padding: 10px; \" >As discussed in the lecture videos, for a classification task, we can start by using our linear regression model, $f_{\\mathbf{w},b}(\\mathbf{x}^{(i)}) = \\mathbf{w} \\cdot  \\mathbf{x}^{(i)} + b$, to predict $y$ given $x$. \n",
    "- However, we would like the predictions of our classification model to be between 0 and 1 since our output variable $y$ is either 0 or 1. \n",
    "- This can be accomplished by using a \"sigmoid function\" which maps all input values to values between 0 and 1. \n",
    "\n",
    "\n",
    "Let's implement the sigmoid function and see this for ourselves.\n",
    "\n",
    "## Formula for Sigmoid function\n",
    "\n",
    "The formula for a sigmoid function is as follows -  \n",
    "\n",
    "$g(z) = \\frac{1}{1+e^{-z}}\\tag{1}$\n",
    "\n",
    "In the case of logistic regression, z (the input to the sigmoid function), is the output of a linear regression model. \n",
    "- In the case of a single example, $z$ is scalar.\n",
    "- in the case of multiple examples, $z$ may be a vector consisting of $m$ values, one for each example. \n",
    "- The implementation of the sigmoid function should cover both of these potential input formats.\n",
    "Let's implement this in Python."
   ]
  },
  {
   "cell_type": "markdown",
   "id": "aedc5b70",
   "metadata": {
    "pycharm": {
     "name": "#%% md\n"
    }
   },
   "source": [
    "NumPy has a function called [`exp()`](https://numpy.org/doc/stable/reference/generated/numpy.exp.html), which offers a convenient way to calculate the exponential ( $e^{z}$) of all elements in the input array (`z`).\n",
    " \n",
    "It also works with a single number as an input, as shown below."
   ]
  },
  {
   "cell_type": "code",
   "execution_count": 2,
   "id": "7cfc03d1",
   "metadata": {
    "pycharm": {
     "name": "#%%\n"
    }
   },
   "outputs": [
    {
     "name": "stdout",
     "output_type": "stream",
     "text": [
      "Input to exp: [1 2 3]\n",
      "Output of exp: [ 2.72  7.39 20.09]\n",
      "Input to exp: 1\n",
      "Output of exp: 2.718281828459045\n"
     ]
    }
   ],
   "source": [
    "# Input is an array. \n",
    "input_array = np.array([1,2,3])\n",
    "exp_array = np.exp(input_array)\n",
    "\n",
    "print(\"Input to exp:\", input_array)\n",
    "print(\"Output of exp:\", exp_array)\n",
    "\n",
    "# Input is a single number\n",
    "input_val = 1  \n",
    "exp_val = np.exp(input_val)\n",
    "\n",
    "print(\"Input to exp:\", input_val)\n",
    "print(\"Output of exp:\", exp_val)"
   ]
  },
  {
   "cell_type": "markdown",
   "id": "a8df4487",
   "metadata": {
    "pycharm": {
     "name": "#%% md\n"
    }
   },
   "source": [
    "The `sigmoid` function is implemented in python as shown in the cell below."
   ]
  },
  {
   "cell_type": "code",
   "execution_count": 3,
   "id": "3df953d5",
   "metadata": {
    "pycharm": {
     "name": "#%%\n"
    }
   },
   "outputs": [],
   "source": [
    "def sigmoid(z):\n",
    "    \"\"\"\n",
    "    Compute the sigmoid of z\n",
    "\n",
    "    Args:\n",
    "        z (ndarray): A scalar, numpy array of any size.\n",
    "\n",
    "    Returns:\n",
    "        g (ndarray): sigmoid(z), with the same shape as z\n",
    "         \n",
    "    \"\"\"\n",
    "\n",
    "    g = 1/(1+np.exp(-z))\n",
    "   \n",
    "    return g"
   ]
  },
  {
   "cell_type": "markdown",
   "id": "95785953",
   "metadata": {
    "pycharm": {
     "name": "#%% md\n"
    }
   },
   "source": [
    "Let's see what the output of this function is for various value of `z`"
   ]
  },
  {
   "cell_type": "code",
   "execution_count": 4,
   "id": "50039358",
   "metadata": {
    "pycharm": {
     "name": "#%%\n"
    }
   },
   "outputs": [
    {
     "name": "stdout",
     "output_type": "stream",
     "text": [
      "Input (z), Output (sigmoid(z))\n",
      "[[-1.000e+01  4.540e-05]\n",
      " [-9.000e+00  1.234e-04]\n",
      " [-8.000e+00  3.354e-04]\n",
      " [-7.000e+00  9.111e-04]\n",
      " [-6.000e+00  2.473e-03]\n",
      " [-5.000e+00  6.693e-03]\n",
      " [-4.000e+00  1.799e-02]\n",
      " [-3.000e+00  4.743e-02]\n",
      " [-2.000e+00  1.192e-01]\n",
      " [-1.000e+00  2.689e-01]\n",
      " [ 0.000e+00  5.000e-01]\n",
      " [ 1.000e+00  7.311e-01]\n",
      " [ 2.000e+00  8.808e-01]\n",
      " [ 3.000e+00  9.526e-01]\n",
      " [ 4.000e+00  9.820e-01]\n",
      " [ 5.000e+00  9.933e-01]\n",
      " [ 6.000e+00  9.975e-01]\n",
      " [ 7.000e+00  9.991e-01]\n",
      " [ 8.000e+00  9.997e-01]\n",
      " [ 9.000e+00  9.999e-01]\n",
      " [ 1.000e+01  1.000e+00]]\n"
     ]
    }
   ],
   "source": [
    "# Generate an array of evenly spaced values between -10 and 10\n",
    "z_tmp = np.arange(-10,11)\n",
    "\n",
    "# Use the function implemented above to get the sigmoid values\n",
    "y = sigmoid(z_tmp)\n",
    "\n",
    "# Code for pretty printing the two arrays next to each other\n",
    "np.set_printoptions(precision=3) \n",
    "print(\"Input (z), Output (sigmoid(z))\")\n",
    "print(np.c_[z_tmp, y])"
   ]
  },
  {
   "cell_type": "markdown",
   "id": "edf1428a",
   "metadata": {
    "pycharm": {
     "name": "#%% md\n"
    }
   },
   "source": [
    "The values in the left column are `z`, and the values in the right column are `sigmoid(z)`. As you can see, the input values to the sigmoid range from -10 to 10, and the output values range from 0 to 1. \n",
    "\n",
    "Now, let's try to plot this function using the `matplotlib` library."
   ]
  },
  {
   "cell_type": "code",
   "execution_count": 5,
   "id": "1b6c2c15",
   "metadata": {
    "pycharm": {
     "name": "#%%\n"
    }
   },
   "outputs": [
    {
     "data": {
      "application/vnd.jupyter.widget-view+json": {
       "model_id": "5044dd9e80614568a1b86dcd2c71d14e",
       "version_major": 2,
       "version_minor": 0
      },
      "image/png": "[encoded data removed]",
      "text/html": [
       "\n",
       "            <div style=\"display: inline-block;\">\n",
       "                <div class=\"jupyter-widgets widget-label\" style=\"text-align: center;\">\n",
       "                    Figure\n",
       "                </div>\n",
       "                <img src='data:image/png;base64,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' width=500.0/>\n",
       "            </div>\n",
       "        "
      ],
      "text/plain": [
       "Canvas(toolbar=Toolbar(toolitems=[('Home', 'Reset original view', 'home', 'home'), ('Back', 'Back to previous …"
      ]
     },
     "metadata": {},
     "output_type": "display_data"
    }
   ],
   "source": [
    "# Plot z vs sigmoid(z)\n",
    "fig,ax = plt.subplots(1,1,figsize=(5,3))\n",
    "ax.plot(z_tmp, y, c=\"b\")\n",
    "\n",
    "ax.set_title(\"Sigmoid function\")\n",
    "ax.set_ylabel('sigmoid(z)')\n",
    "ax.set_xlabel('z')\n",
    "draw_vthresh(ax,0)"
   ]
  },
  {
   "cell_type": "markdown",
   "id": "9c095eb8",
   "metadata": {
    "pycharm": {
     "name": "#%% md\n"
    }
   },
   "source": [
    "As you can see, the sigmoid function approaches  `0` as `z` goes to large negative values and approaches `1` as `z` goes to large positive values.\n"
   ]
  },
  {
   "cell_type": "markdown",
   "id": "892d8c6c",
   "metadata": {
    "pycharm": {
     "name": "#%% md\n"
    }
   },
   "source": [
    "## Logistic Regression\n",
    "<img align=\"left\" src=\"./images/C1_W3_LogisticRegression_right.png\"     style=\" width:300px; padding: 10px; \" > A logistic regression model applies the sigmoid to the familiar linear regression model as shown below:\n",
    "\n",
    "$$ f_{\\mathbf{w},b}(\\mathbf{x}^{(i)}) = g(\\mathbf{w} \\cdot \\mathbf{x}^{(i)} + b ) \\tag{2} $$ \n",
    "\n",
    "  where\n",
    "\n",
    "  $g(z) = \\frac{1}{1+e^{-z}}\\tag{3}$\n"
   ]
  },
  {
   "cell_type": "markdown",
   "id": "80638c42",
   "metadata": {
    "pycharm": {
     "name": "#%% md\n"
    }
   },
   "source": [
    "  \n",
    "Let's apply logistic regression to the categorical data example of tumor classification.  \n",
    "First, load the examples and initial values for the parameters.\n",
    "  \n"
   ]
  },
  {
   "cell_type": "code",
   "execution_count": 6,
   "id": "473f706d",
   "metadata": {
    "pycharm": {
     "name": "#%%\n"
    },
    "tags": []
   },
   "outputs": [],
   "source": [
    "x_train = np.array([0., 1, 2, 3, 4, 5])\n",
    "y_train = np.array([0,  0, 0, 1, 1, 1])\n",
    "\n",
    "w_in = np.zeros((1))\n",
    "b_in = 0"
   ]
  },
  {
   "cell_type": "markdown",
   "id": "4ed8dda8",
   "metadata": {
    "pycharm": {
     "name": "#%% md\n"
    }
   },
   "source": [
    "Try the following steps:\n",
    "- Click on 'Run Logistic Regression' to find the best logistic regression model for the given training data\n",
    "    - Note the resulting model fits the data quite well.\n",
    "    - Note, the orange line is '$z$' or $\\mathbf{w} \\cdot \\mathbf{x}^{(i)} + b$  above. It does not match the line in a linear regression model.\n",
    "Further improve these results by applying a *threshold*. \n",
    "- Tick the box on the 'Toggle 0.5 threshold' to show the predictions if a threshold is applied.\n",
    "    - These predictions look good. The predictions match the data\n",
    "    - Now, add further data points in the large tumor size range (near 10), and re-run logistic regression.\n",
    "    - unlike the linear regression model, this model continues to make correct predictions"
   ]
  },
  {
   "cell_type": "code",
   "execution_count": 1,
   "id": "74014dc5",
   "metadata": {
    "pycharm": {
     "name": "#%%\n"
    }
   },
   "outputs": [
    {
     "ename": "NameError",
     "evalue": "name 'plt' is not defined",
     "output_type": "error",
     "traceback": [
      "\u001b[0;31m---------------------------------------------------------------------------\u001b[0m",
      "\u001b[0;31mNameError\u001b[0m                                 Traceback (most recent call last)",
      "Cell \u001b[0;32mIn[1], line 1\u001b[0m\n\u001b[0;32m----> 1\u001b[0m \u001b[43mplt\u001b[49m\u001b[38;5;241m.\u001b[39mclose(\u001b[38;5;124m'\u001b[39m\u001b[38;5;124mall\u001b[39m\u001b[38;5;124m'\u001b[39m) \n\u001b[1;32m      2\u001b[0m addpt \u001b[38;5;241m=\u001b[39m plt_one_addpt_onclick( x_train,y_train, w_in, b_in, logistic\u001b[38;5;241m=\u001b[39m\u001b[38;5;28;01mTrue\u001b[39;00m)\n",
      "\u001b[0;31mNameError\u001b[0m: name 'plt' is not defined"
     ]
    }
   ],
   "source": [
    "plt.close('all') \n",
    "addpt = plt_one_addpt_onclick( x_train,y_train, w_in, b_in, logistic=True)"
   ]
  },
  {
   "cell_type": "markdown",
   "id": "213452b1",
   "metadata": {
    "pycharm": {
     "name": "#%% md\n"
    }
   },
   "source": [
    "## Congratulations!\n",
    "You have explored the use of the sigmoid function in logistic regression."
   ]
  },
  {
   "cell_type": "code",
   "execution_count": 7,
   "id": "7029c932",
   "metadata": {
    "pycharm": {
     "name": "#%%\n"
    }
   },
   "outputs": [],
   "source": []
  }
 ],
 "metadata": {
  "kernelspec": {
   "display_name": "Python 3 (ipykernel)",
   "language": "python",
   "name": "python3"
  },
  "language_info": {
   "codemirror_mode": {
    "name": "ipython",
    "version": 3
   },
   "file_extension": ".py",
   "mimetype": "text/x-python",
   "name": "python",
   "nbconvert_exporter": "python",
   "pygments_lexer": "ipython3",
   "version": "3.10.6"
  }
 },
 "nbformat": 4,
 "nbformat_minor": 5
}
